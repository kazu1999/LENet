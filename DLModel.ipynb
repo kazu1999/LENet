{
  "cells": [
    {
      "cell_type": "markdown",
      "metadata": {
        "id": "view-in-github",
        "colab_type": "text"
      },
      "source": [
        "<a href=\"https://colab.research.google.com/github/kazu1999/LENet/blob/main/DLModel.ipynb\" target=\"_parent\"><img src=\"https://colab.research.google.com/assets/colab-badge.svg\" alt=\"Open In Colab\"/></a>"
      ]
    },
    {
      "cell_type": "code",
      "execution_count": null,
      "metadata": {
        "id": "TC6yWIdjZE5r"
      },
      "outputs": [],
      "source": [
        "from google.colab import drive\n",
        "drive.mount('/content/drive')"
      ]
    },
    {
      "cell_type": "code",
      "execution_count": null,
      "metadata": {
        "id": "FRyaFqcwO9Xi"
      },
      "outputs": [],
      "source": [
        "!unzip drive/MyDrive/for_drive.zip"
      ]
    },
    {
      "cell_type": "code",
      "execution_count": null,
      "metadata": {
        "id": "gmpKwYd1pokn"
      },
      "outputs": [],
      "source": [
        "!pip install folium\n",
        "!pip install pytorch-summary"
      ]
    },
    {
      "cell_type": "code",
      "execution_count": null,
      "metadata": {
        "id": "EGMtRsotcYlM"
      },
      "outputs": [],
      "source": [
        "import pandas as pd\n",
        "import folium\n",
        "import pickle\n",
        "import numpy as np\n",
        "from sklearn.neighbors import KDTree\n",
        "import matplotlib.pyplot as plt\n",
        "import time\n",
        "from sklearn.model_selection import train_test_split\n",
        "\n",
        "import torch\n",
        "import torchvision\n",
        "from torch import nn\n",
        "from torch.utils.data import DataLoader\n",
        "from torchvision import datasets\n",
        "from torchvision.transforms import ToTensor, Lambda, Compose\n",
        "import matplotlib.pyplot as plt\n",
        "from sklearn.preprocessing import OneHotEncoder\n",
        "import statistics\n",
        "import math\n",
        "from sklearn.metrics import confusion_matrix\n",
        "import seaborn as sns\n",
        "\n",
        "from sklearn.metrics import r2_score\n",
        "from sklearn.metrics import mean_squared_error\n",
        "from sklearn.metrics import mean_absolute_error\n",
        "\n",
        "import os\n",
        "from torchsummary import summary\n",
        "import glob\n",
        "import shutil\n",
        "\n",
        "\n",
        "%matplotlib inline"
      ]
    },
    {
      "cell_type": "markdown",
      "metadata": {
        "id": "NPWcbtkMaHxL"
      },
      "source": [
        "# データ分析"
      ]
    },
    {
      "cell_type": "code",
      "execution_count": null,
      "metadata": {
        "id": "2bnB4ujDaJDE"
      },
      "outputs": [],
      "source": [
        "path_num_list=[1,2,3,4,5,6,7]\n",
        "\n",
        "merged_merged = pd.DataFrame()\n",
        "\n",
        "for path_num in path_num_list:\n",
        "    glob_path = 'for_drive/path' + str(path_num) + '/*'\n",
        "    dir_list = glob.glob(glob_path)\n",
        "    print(path_num)\n",
        "\n",
        "    for dirr in dir_list:\n",
        "      print(dirr)\n",
        "      spl_dirr=dirr.split('/')\n",
        "      rosbag_name = spl_dirr[2]\n",
        "\n",
        "      merged = pd.read_csv(dirr+'/merged.csv')\n",
        "      merged['rosbag']=rosbag_name\n",
        "      merged['path']=path_num\n",
        "      merged_merged = pd.concat([merged_merged,merged])\n",
        "\n"
      ]
    },
    {
      "cell_type": "code",
      "source": [
        "merged_merged"
      ],
      "metadata": {
        "id": "ovakRmDehyz5"
      },
      "execution_count": null,
      "outputs": []
    },
    {
      "cell_type": "markdown",
      "source": [
        "## 各pathのerror可視化"
      ],
      "metadata": {
        "id": "1nMbRn1-y4F4"
      }
    },
    {
      "cell_type": "markdown",
      "source": [
        "### path1"
      ],
      "metadata": {
        "id": "-emRG_Qoh1Rj"
      }
    },
    {
      "cell_type": "code",
      "source": [
        "path1_merged = merged_merged[merged_merged['path']==1]\n",
        "path1_merged = path1_merged.reset_index(drop=True)"
      ],
      "metadata": {
        "id": "2YgG15gDh2m4"
      },
      "execution_count": null,
      "outputs": []
    },
    {
      "cell_type": "code",
      "source": [
        "path1_merged.to_csv('path1_merged.csv')"
      ],
      "metadata": {
        "id": "ZfSuwJwmiGo6"
      },
      "execution_count": null,
      "outputs": []
    },
    {
      "cell_type": "code",
      "source": [
        "path1_merged"
      ],
      "metadata": {
        "id": "LQYWUCAMD5hm"
      },
      "execution_count": null,
      "outputs": []
    },
    {
      "cell_type": "code",
      "source": [
        "plt.plot(path1_merged['error'])\n",
        "plt.hlines(path1_merged['error'].mean(), 0, len(path1_merged))\n",
        "plt.show()\n",
        "\n",
        "print('avg : ')\n",
        "print(path1_merged['error'].mean())"
      ],
      "metadata": {
        "id": "1EcK33ARiLDM"
      },
      "execution_count": null,
      "outputs": []
    },
    {
      "cell_type": "markdown",
      "source": [
        "### path2"
      ],
      "metadata": {
        "id": "8RpYtyYhjLik"
      }
    },
    {
      "cell_type": "code",
      "source": [
        "path2_merged = merged_merged[merged_merged['path']==2]\n",
        "path2_merged = path2_merged.reset_index(drop=True)"
      ],
      "metadata": {
        "id": "9k4D9ygnjMsa"
      },
      "execution_count": null,
      "outputs": []
    },
    {
      "cell_type": "code",
      "source": [
        "path2_merged"
      ],
      "metadata": {
        "id": "ZUI0fVUNEGE0"
      },
      "execution_count": null,
      "outputs": []
    },
    {
      "cell_type": "code",
      "source": [
        "path2_merged.to_csv('path2_merged.csv')"
      ],
      "metadata": {
        "id": "9ArIk3A1jSDl"
      },
      "execution_count": null,
      "outputs": []
    },
    {
      "cell_type": "code",
      "source": [
        "plt.plot(path2_merged['error'])\n",
        "plt.hlines(path2_merged['error'].mean(), 0, len(path2_merged))\n",
        "plt.show()\n",
        "\n",
        "print('avg : ')\n",
        "print(path2_merged['error'].mean())"
      ],
      "metadata": {
        "id": "HMd11Z1JjYpI"
      },
      "execution_count": null,
      "outputs": []
    },
    {
      "cell_type": "markdown",
      "source": [
        "### path3"
      ],
      "metadata": {
        "id": "EG3GoVI7jkSd"
      }
    },
    {
      "cell_type": "code",
      "source": [
        "path3_merged = merged_merged[merged_merged['path']==3]\n",
        "path3_merged = path3_merged.reset_index(drop=True)"
      ],
      "metadata": {
        "id": "XOluxZ2OjlZu"
      },
      "execution_count": null,
      "outputs": []
    },
    {
      "cell_type": "code",
      "source": [
        "path3_merged"
      ],
      "metadata": {
        "id": "hcNLyHPNENDH"
      },
      "execution_count": null,
      "outputs": []
    },
    {
      "cell_type": "code",
      "source": [
        "path3_merged.to_csv('path3_merged.csv')"
      ],
      "metadata": {
        "id": "8lNt3oztjrXC"
      },
      "execution_count": null,
      "outputs": []
    },
    {
      "cell_type": "code",
      "source": [
        "plt.plot(path3_merged['error'])\n",
        "plt.hlines(path3_merged['error'].mean(), 0, len(path3_merged))\n",
        "plt.show()\n",
        "\n",
        "print('avg : ')\n",
        "print(path3_merged['error'].mean())"
      ],
      "metadata": {
        "id": "bnhSV0Z1ju3h"
      },
      "execution_count": null,
      "outputs": []
    },
    {
      "cell_type": "markdown",
      "source": [
        "### path4"
      ],
      "metadata": {
        "id": "hGClpM58j48W"
      }
    },
    {
      "cell_type": "code",
      "source": [
        "path4_merged = merged_merged[merged_merged['path']==4]\n",
        "path4_merged = path4_merged.reset_index(drop=True)"
      ],
      "metadata": {
        "id": "2UZlJm7pj3Ft"
      },
      "execution_count": null,
      "outputs": []
    },
    {
      "cell_type": "code",
      "source": [
        "path4_merged"
      ],
      "metadata": {
        "id": "ikDM2CGnERyK"
      },
      "execution_count": null,
      "outputs": []
    },
    {
      "cell_type": "code",
      "source": [
        "path4_merged.to_csv('path4_merged.csv')"
      ],
      "metadata": {
        "id": "PcdaQ74Jj9x-"
      },
      "execution_count": null,
      "outputs": []
    },
    {
      "cell_type": "code",
      "source": [
        "plt.plot(path4_merged['error'])\n",
        "plt.hlines(path4_merged['error'].mean(), 0, len(path4_merged))\n",
        "plt.show()\n",
        "\n",
        "print('avg : ')\n",
        "print(path4_merged['error'].mean())"
      ],
      "metadata": {
        "id": "OtNCEScqkCQV"
      },
      "execution_count": null,
      "outputs": []
    },
    {
      "cell_type": "markdown",
      "source": [
        "### path5"
      ],
      "metadata": {
        "id": "BwTycEqgkP3z"
      }
    },
    {
      "cell_type": "code",
      "source": [
        "path5_merged = merged_merged[merged_merged['path']==5]\n",
        "path5_merged = path5_merged.reset_index(drop=True)"
      ],
      "metadata": {
        "id": "oaOE-i-PkSBB"
      },
      "execution_count": null,
      "outputs": []
    },
    {
      "cell_type": "code",
      "source": [
        "path5_merged"
      ],
      "metadata": {
        "id": "YdHWUSeLEWyb"
      },
      "execution_count": null,
      "outputs": []
    },
    {
      "cell_type": "code",
      "source": [
        "path5_merged.to_csv('path5_merged.csv')"
      ],
      "metadata": {
        "id": "JWWqWmZukU7Y"
      },
      "execution_count": null,
      "outputs": []
    },
    {
      "cell_type": "code",
      "source": [
        "plt.plot(path5_merged['error'])\n",
        "plt.hlines(path5_merged['error'].mean(), 0, len(path5_merged))\n",
        "plt.show()\n",
        "\n",
        "print('avg : ')\n",
        "print(path5_merged['error'].mean())"
      ],
      "metadata": {
        "id": "HH_k7Mh_kWXM"
      },
      "execution_count": null,
      "outputs": []
    },
    {
      "cell_type": "markdown",
      "source": [
        "### path6"
      ],
      "metadata": {
        "id": "SqF37mUAkiJr"
      }
    },
    {
      "cell_type": "code",
      "source": [
        "path6_merged = merged_merged[merged_merged['path']==6]\n",
        "path6_merged = path6_merged.reset_index(drop=True)"
      ],
      "metadata": {
        "id": "LIdqejC-kjlf"
      },
      "execution_count": null,
      "outputs": []
    },
    {
      "cell_type": "code",
      "source": [
        "path6_merged"
      ],
      "metadata": {
        "id": "LUeQUepVEcB9"
      },
      "execution_count": null,
      "outputs": []
    },
    {
      "cell_type": "code",
      "source": [
        "path6_merged.to_csv('path6_merged.csv')"
      ],
      "metadata": {
        "id": "6sID3G7mkmSI"
      },
      "execution_count": null,
      "outputs": []
    },
    {
      "cell_type": "code",
      "source": [
        "plt.plot(path6_merged['error'])\n",
        "plt.hlines(path6_merged['error'].mean(), 0, len(path6_merged))\n",
        "plt.show()\n",
        "\n",
        "print('avg : ')\n",
        "print(path6_merged['error'].mean())"
      ],
      "metadata": {
        "id": "j2IiV3GAkoST"
      },
      "execution_count": null,
      "outputs": []
    },
    {
      "cell_type": "markdown",
      "source": [
        "### path7"
      ],
      "metadata": {
        "id": "qrEcIOpEkwh9"
      }
    },
    {
      "cell_type": "code",
      "source": [
        "path7_merged = merged_merged[merged_merged['path']==7]\n",
        "path7_merged = path7_merged.reset_index(drop=True)"
      ],
      "metadata": {
        "id": "Lr6IGHMEkt_a"
      },
      "execution_count": null,
      "outputs": []
    },
    {
      "cell_type": "code",
      "source": [
        "path7_merged"
      ],
      "metadata": {
        "id": "kV3najlZEiDG"
      },
      "execution_count": null,
      "outputs": []
    },
    {
      "cell_type": "code",
      "source": [
        "path7_merged.to_csv('path7_merged.csv')"
      ],
      "metadata": {
        "id": "pwQLZUh_kz7o"
      },
      "execution_count": null,
      "outputs": []
    },
    {
      "cell_type": "code",
      "source": [
        "plt.plot(path7_merged['error'])\n",
        "plt.hlines(path7_merged['error'].mean(), 0, len(path7_merged))\n",
        "plt.show()\n",
        "\n",
        "print('avg : ')\n",
        "print(path7_merged['error'].mean())"
      ],
      "metadata": {
        "id": "qwEScw2Wk3Ii"
      },
      "execution_count": null,
      "outputs": []
    },
    {
      "cell_type": "markdown",
      "metadata": {
        "id": "lNJ_tD2DmcaF"
      },
      "source": [
        "# 前処理"
      ]
    },
    {
      "cell_type": "markdown",
      "metadata": {
        "id": "ncH5_Nx8qHsS"
      },
      "source": [
        "## test train data 分割"
      ]
    },
    {
      "cell_type": "code",
      "source": [
        "def pcd_path(x):\n",
        "  return 'path'+str(x['path'])+'/'+ x['rosbag']+'/'+'embedded/'+str(x['pcd_filename'])+'_cloud.bin'\n",
        "\n",
        "merged_merged['pcd_path'] = merged_merged.apply(pcd_path,axis=1)\n"
      ],
      "metadata": {
        "id": "qhNrBcwZkg02"
      },
      "execution_count": null,
      "outputs": []
    },
    {
      "cell_type": "markdown",
      "source": [
        "### 各pathで分割"
      ],
      "metadata": {
        "id": "ltB9UJUTz_JW"
      }
    },
    {
      "cell_type": "markdown",
      "source": [
        "#### path1"
      ],
      "metadata": {
        "id": "2SVbj5cdzthi"
      }
    },
    {
      "cell_type": "code",
      "source": [
        "# path1\n",
        "\n",
        "path1_extract_merged =merged_merged[merged_merged['path']==1]\n",
        "serial_num = pd.RangeIndex(start=1, stop=len(path1_extract_merged.index) + 1, step=1)\n",
        "path1_extract_merged['no'] = serial_num\n",
        "\n",
        "def istest(x):\n",
        "  if x['no']< len(path1_extract_merged)*0.1:\n",
        "    return True\n",
        "  return False\n",
        "\n",
        "path1_extract_merged['istest'] = path1_extract_merged.apply(istest,axis=1)\n"
      ],
      "metadata": {
        "id": "CPWLZhfbvp_z"
      },
      "execution_count": null,
      "outputs": []
    },
    {
      "cell_type": "markdown",
      "source": [
        "#### path2"
      ],
      "metadata": {
        "id": "u36MhVyDzvjp"
      }
    },
    {
      "cell_type": "code",
      "source": [
        "# path2\n",
        "\n",
        "path2_extract_merged =merged_merged[merged_merged['path']==2]\n",
        "serial_num = pd.RangeIndex(start=1, stop=len(path2_extract_merged.index) + 1, step=1)\n",
        "path2_extract_merged['no'] = serial_num\n",
        "\n",
        "def istest(x):\n",
        "  if x['no']< len(path2_extract_merged)*0.1:\n",
        "    return True\n",
        "  return False\n",
        "\n",
        "path2_extract_merged['istest'] = path2_extract_merged.apply(istest,axis=1)"
      ],
      "metadata": {
        "id": "jCVCRFhnvp8x"
      },
      "execution_count": null,
      "outputs": []
    },
    {
      "cell_type": "markdown",
      "source": [
        "#### path3"
      ],
      "metadata": {
        "id": "dM4p1CKMzxmX"
      }
    },
    {
      "cell_type": "code",
      "source": [
        "# path3\n",
        "\n",
        "path3_extract_merged =merged_merged[merged_merged['path']==3]\n",
        "serial_num = pd.RangeIndex(start=1, stop=len(path3_extract_merged.index) + 1, step=1)\n",
        "path3_extract_merged['no'] = serial_num\n",
        "\n",
        "def istest(x):\n",
        "  if x['no']< len(path3_extract_merged)*0.1:\n",
        "    return True\n",
        "  return False\n",
        "\n",
        "path3_extract_merged['istest'] = path3_extract_merged.apply(istest,axis=1)"
      ],
      "metadata": {
        "id": "mFEPoKmPxJuk"
      },
      "execution_count": null,
      "outputs": []
    },
    {
      "cell_type": "markdown",
      "source": [
        "#### path4"
      ],
      "metadata": {
        "id": "tMmmGc39zzEn"
      }
    },
    {
      "cell_type": "code",
      "source": [
        "# path4\n",
        "\n",
        "path4_extract_merged =merged_merged[merged_merged['path']==4]\n",
        "serial_num = pd.RangeIndex(start=1, stop=len(path4_extract_merged.index) + 1, step=1)\n",
        "path4_extract_merged['no'] = serial_num\n",
        "\n",
        "def istest(x):\n",
        "  if x['no']< len(path4_extract_merged)*0.1:\n",
        "    return True\n",
        "  return False\n",
        "\n",
        "path4_extract_merged['istest'] = path4_extract_merged.apply(istest,axis=1)"
      ],
      "metadata": {
        "id": "Yj7nPhjvxJsb"
      },
      "execution_count": null,
      "outputs": []
    },
    {
      "cell_type": "markdown",
      "source": [
        "#### path5"
      ],
      "metadata": {
        "id": "ClmPlRkYz0ch"
      }
    },
    {
      "cell_type": "code",
      "source": [
        "# path5\n",
        "\n",
        "path5_extract_merged =merged_merged[merged_merged['path']==5]\n",
        "serial_num = pd.RangeIndex(start=1, stop=len(path5_extract_merged.index) + 1, step=1)\n",
        "path5_extract_merged['no'] = serial_num\n",
        "\n",
        "def istest(x):\n",
        "  if x['no']< len(path5_extract_merged)*0.1:\n",
        "    return True\n",
        "  return False\n",
        "\n",
        "path5_extract_merged['istest'] = path5_extract_merged.apply(istest,axis=1)"
      ],
      "metadata": {
        "id": "WuMAHupbxic9"
      },
      "execution_count": null,
      "outputs": []
    },
    {
      "cell_type": "markdown",
      "source": [
        "#### path6"
      ],
      "metadata": {
        "id": "g8QcFc3lz1zC"
      }
    },
    {
      "cell_type": "code",
      "source": [
        "# path6\n",
        "\n",
        "path6_extract_merged =merged_merged[merged_merged['path']==6]\n",
        "serial_num = pd.RangeIndex(start=1, stop=len(path6_extract_merged.index) + 1, step=1)\n",
        "path6_extract_merged['no'] = serial_num\n",
        "\n",
        "def istest(x):\n",
        "  if x['no']< len(path6_extract_merged)*0.1:\n",
        "    return True\n",
        "  return False\n",
        "\n",
        "path6_extract_merged['istest'] = path6_extract_merged.apply(istest,axis=1)"
      ],
      "metadata": {
        "id": "9zOETWg7xsUs"
      },
      "execution_count": null,
      "outputs": []
    },
    {
      "cell_type": "markdown",
      "source": [
        "#### path7"
      ],
      "metadata": {
        "id": "EK0n21Z3z27u"
      }
    },
    {
      "cell_type": "code",
      "source": [
        "# path7\n",
        "\n",
        "path7_extract_merged =merged_merged[merged_merged['path']==7]\n",
        "serial_num = pd.RangeIndex(start=1, stop=len(path7_extract_merged.index) + 1, step=1)\n",
        "path7_extract_merged['no'] = serial_num\n",
        "\n",
        "def istest(x):\n",
        "  if x['no']< len(path7_extract_merged)*0.1:\n",
        "    return True\n",
        "  return False\n",
        "\n",
        "path7_extract_merged['istest'] = path7_extract_merged.apply(istest,axis=1)"
      ],
      "metadata": {
        "id": "u4k53bbOx1S6"
      },
      "execution_count": null,
      "outputs": []
    },
    {
      "cell_type": "markdown",
      "source": [
        "### 各pathの分割をまとめる"
      ],
      "metadata": {
        "id": "mmhb8hcT0Tj5"
      }
    },
    {
      "cell_type": "code",
      "source": [
        "all_df = pd.DataFrame()\n",
        "all_df = pd.concat([all_df,path1_extract_merged])\n",
        "all_df = pd.concat([all_df,path2_extract_merged])\n",
        "all_df = pd.concat([all_df,path3_extract_merged])\n",
        "all_df = pd.concat([all_df,path4_extract_merged])\n",
        "all_df = pd.concat([all_df,path5_extract_merged])\n",
        "all_df = pd.concat([all_df,path6_extract_merged])\n",
        "all_df = pd.concat([all_df,path7_extract_merged])\n",
        "\n",
        "serial_num = pd.RangeIndex(start=1, stop=len(all_df.index) + 1, step=1)\n",
        "all_df['id'] = serial_num"
      ],
      "metadata": {
        "id": "jNRLmqVSxG03"
      },
      "execution_count": null,
      "outputs": []
    },
    {
      "cell_type": "code",
      "source": [
        "all_df.columns"
      ],
      "metadata": {
        "id": "vIAx1VmI013p"
      },
      "execution_count": null,
      "outputs": []
    },
    {
      "cell_type": "code",
      "source": [
        "all_extract_df = all_df.loc[:,['id','pcd_path','istest','error']]"
      ],
      "metadata": {
        "id": "qLHerUxN0u4v"
      },
      "execution_count": null,
      "outputs": []
    },
    {
      "cell_type": "code",
      "source": [
        "test_df = all_extract_df[all_extract_df['istest']==True]\n",
        "train_df = all_extract_df[all_extract_df['istest']==False]"
      ],
      "metadata": {
        "id": "Z8o8FCQlxHVh"
      },
      "execution_count": null,
      "outputs": []
    },
    {
      "cell_type": "code",
      "source": [
        "test_df"
      ],
      "metadata": {
        "id": "oOT5d1yQxHOi"
      },
      "execution_count": null,
      "outputs": []
    },
    {
      "cell_type": "markdown",
      "metadata": {
        "id": "TH_s3dotm2mT"
      },
      "source": [
        "## 特徴抽出ベクトルの処理"
      ]
    },
    {
      "cell_type": "code",
      "source": [],
      "metadata": {
        "id": "JQy_iQiQ4kcX"
      },
      "execution_count": null,
      "outputs": []
    },
    {
      "cell_type": "code",
      "execution_count": null,
      "metadata": {
        "id": "kFetvYrjrrte"
      },
      "outputs": [],
      "source": [
        "test_vector=[]\n",
        "train_vector=[]\n",
        "test_pcd_unavai_id_list=[]\n",
        "train_pcd_unavai_id_list=[]\n",
        "\n",
        "\n",
        "for index, row in test_df.iterrows():\n",
        "  if os.path.exists('for_drive/'+row['pcd_path']):\n",
        "    vector = np.fromfile('for_drive/'+row['pcd_path'],dtype=np.float32)\n",
        "    test_vector.append(vector)\n",
        "  else:\n",
        "    test_pcd_unavai_id_list.append(row['id'])\n",
        "\n",
        "\n",
        "for index, row in train_df.iterrows():\n",
        "  if os.path.exists('for_drive/'+row['pcd_path']):\n",
        "    vector = np.fromfile('for_drive/'+row['pcd_path'],dtype=np.float32)\n",
        "    train_vector.append(vector)\n",
        "  else:\n",
        "    train_pcd_unavai_id_list.append(row['id'])\n",
        "\n"
      ]
    },
    {
      "cell_type": "code",
      "source": [
        "test_df = test_df[~test_df['id'].isin(test_pcd_unavai_id_list)]"
      ],
      "metadata": {
        "id": "QO4MaReZ3tgG"
      },
      "execution_count": null,
      "outputs": []
    },
    {
      "cell_type": "code",
      "source": [
        "train_df"
      ],
      "metadata": {
        "id": "I8JFdPEN52S9"
      },
      "execution_count": null,
      "outputs": []
    },
    {
      "cell_type": "code",
      "source": [
        "train_df = train_df[~train_df['id'].isin(train_pcd_unavai_id_list)]"
      ],
      "metadata": {
        "id": "CeUjxhoA568h"
      },
      "execution_count": null,
      "outputs": []
    },
    {
      "cell_type": "code",
      "execution_count": null,
      "metadata": {
        "id": "cMdaIjmSskir"
      },
      "outputs": [],
      "source": [
        "test_vector"
      ]
    },
    {
      "cell_type": "markdown",
      "metadata": {
        "id": "LsWOX0v4qvp0"
      },
      "source": [
        "# モデル実装"
      ]
    },
    {
      "cell_type": "code",
      "execution_count": null,
      "metadata": {
        "id": "gLq69axLqxjQ"
      },
      "outputs": [],
      "source": [
        "# 目的変数の選択 error or lon or lat\n",
        "target = 'error'"
      ]
    },
    {
      "cell_type": "code",
      "execution_count": null,
      "metadata": {
        "id": "hxeGQaBzxDWS"
      },
      "outputs": [],
      "source": [
        "#ML\n",
        "# testdata traindata に分ける\n",
        "\n",
        "X_train = train_vector\n",
        "y_train = train_df[target].to_list()\n",
        "X_test = test_vector\n",
        "y_test = test_df[target].to_list()\n",
        "\n",
        "\n",
        "X_train = np.array(X_train)\n",
        "X_test = np.array(X_test)\n",
        "y_train = np.array(y_train)\n",
        "y_test = np.array(y_test)\n",
        "\n",
        "X_train = X_train.reshape([len(X_train),1,256])\n",
        "X_test = X_test.reshape([len(X_test),1,256])\n",
        "\n",
        "#y_train = y_train.reshape([len(y_train),1])\n",
        "#y_test = y_test.reshape([len(y_test),1])"
      ]
    },
    {
      "cell_type": "code",
      "execution_count": null,
      "metadata": {
        "id": "h4AbJebKwG67"
      },
      "outputs": [],
      "source": [
        "y_test = y_test.astype('float32')\n",
        "y_train = y_train.astype('float32')"
      ]
    },
    {
      "cell_type": "code",
      "execution_count": null,
      "metadata": {
        "id": "Yyyfb76PtCi4"
      },
      "outputs": [],
      "source": [
        "# Dataset 作成\n",
        "# 参考 https://qiita.com/mathlive/items/2a512831878b8018db02\n",
        "class TrainDataSets(torch.utils.data.Dataset):\n",
        "  def __init__(self, transform = None):\n",
        "    self.transform = transform\n",
        "\n",
        "    self.data = X_train\n",
        "    self.target = y_train\n",
        "\n",
        "    self.datanum = len(X_train)\n",
        "\n",
        "  def __len__(self):\n",
        "    return self.datanum\n",
        "\n",
        "  def __getitem__(self,idx):\n",
        "    out_data = self.data[idx]\n",
        "    out_target = self.target[idx]\n",
        "\n",
        "    if self.transform:\n",
        "      out_data = self.transform(out_data)\n",
        "\n",
        "    return out_data, out_target"
      ]
    },
    {
      "cell_type": "code",
      "execution_count": null,
      "metadata": {
        "id": "qDSt92VetFPm"
      },
      "outputs": [],
      "source": [
        "# Dataset 作成\n",
        "class TestDataSets(torch.utils.data.Dataset):\n",
        "  def __init__(self, transform = None):\n",
        "    self.transform = transform\n",
        "\n",
        "    self.data = X_test\n",
        "    self.target = y_test\n",
        "\n",
        "    self.datanum = len(X_test)\n",
        "\n",
        "  def __len__(self):\n",
        "    return self.datanum\n",
        "\n",
        "  def __getitem__(self,idx):\n",
        "    out_data = self.data[idx]\n",
        "    out_target = self.target[idx]\n",
        "\n",
        "    if self.transform:\n",
        "      out_data = self.transform(out_data)\n",
        "\n",
        "    return out_data, out_target"
      ]
    },
    {
      "cell_type": "code",
      "execution_count": null,
      "metadata": {
        "id": "sOw4uvr4tcS6"
      },
      "outputs": [],
      "source": [
        "trans = torchvision.transforms.ToTensor()"
      ]
    },
    {
      "cell_type": "code",
      "execution_count": null,
      "metadata": {
        "id": "HeO7RvHatfFn"
      },
      "outputs": [],
      "source": [
        "traindata = TrainDataSets(trans)\n",
        "testdata = TestDataSets(trans)\n",
        "\n",
        "batch_size = 64\n",
        "\n",
        "train_dataloader = DataLoader(traindata, batch_size=batch_size)\n",
        "test_dataloader = DataLoader(testdata, batch_size=batch_size)"
      ]
    },
    {
      "cell_type": "code",
      "execution_count": null,
      "metadata": {
        "id": "5wdqhIqvthzT"
      },
      "outputs": [],
      "source": [
        "# model\n",
        "device = \"cuda\" if torch.cuda.is_available() else \"cpu\"\n",
        "print(\"Using {} device\".format(device))\n",
        "\n",
        "class NeuralNetwork(nn.Module):\n",
        "  def __init__(self):\n",
        "    super(NeuralNetwork, self).__init__()\n",
        "    self.flatten = nn.Flatten()\n",
        "    self.linear_relu_stack = nn.Sequential(\n",
        "        nn.Linear(256,10),\n",
        "        nn.ReLU(),\n",
        "        nn.Linear(10,1),\n",
        "        nn.ReLU()\n",
        "    )\n",
        "\n",
        "  def forward(self,x):\n",
        "    x = self.flatten(x)\n",
        "    logits = self.linear_relu_stack(x)\n",
        "    return logits\n",
        "\n",
        "model = NeuralNetwork().to(device)\n",
        "print(model)"
      ]
    },
    {
      "cell_type": "code",
      "execution_count": null,
      "metadata": {
        "id": "vsA3PsCjtj6u"
      },
      "outputs": [],
      "source": [
        "loss_fn = nn.MSELoss()\n",
        "optimizer = torch.optim.SGD(model.parameters(), lr=1e-3)"
      ]
    },
    {
      "cell_type": "code",
      "execution_count": null,
      "metadata": {
        "id": "u3bgfm3otmB8"
      },
      "outputs": [],
      "source": [
        "def train(dataloader, model, loss_fn, optimizer):\n",
        "  size = len(dataloader.dataset)\n",
        "  for batch, (X,y) in enumerate(dataloader):\n",
        "    X, y = X.to(device), y.to(device)\n",
        "\n",
        "    pred = model(X)\n",
        "    loss = loss_fn(pred,y)\n",
        "\n",
        "    optimizer.zero_grad()\n",
        "    loss.backward()\n",
        "    optimizer.step()\n",
        "\n",
        "    if batch%1==0:\n",
        "      loss, current = loss.item(), batch*len(X)\n",
        "      print(f\"loss: {loss:>7f} [{current:>5d}/{size:>5d}]\")"
      ]
    },
    {
      "cell_type": "code",
      "execution_count": null,
      "metadata": {
        "id": "qhqcWnvNtoRc"
      },
      "outputs": [],
      "source": [
        "def test(dataloader, model):\n",
        "  size = len(dataloader.dataset)\n",
        "  model.eval()\n",
        "  test_loss, diff = 0,0\n",
        "  with torch.no_grad():\n",
        "    for X,y in dataloader:\n",
        "      X, y = X.to(device), y.to(device)\n",
        "      pred = model(X)\n",
        "      test_loss += loss_fn(pred,y).item()\n",
        "  test_loss /= size\n",
        "  print(f\"Avg loss: {test_loss:>8f} \\n\")\n",
        "  return test_loss"
      ]
    },
    {
      "cell_type": "code",
      "execution_count": null,
      "metadata": {
        "id": "cORrx4pZtr8E"
      },
      "outputs": [],
      "source": [
        "epoch = 200\n",
        "losses=[]\n",
        "for t in range(epoch):\n",
        "  print(f\"Epoch {t+1}\\n-------------------------------\")\n",
        "  train(train_dataloader, model, loss_fn, optimizer)\n",
        "  losses.append(test(test_dataloader, model))\n",
        "print(\"Done!\")"
      ]
    },
    {
      "cell_type": "code",
      "execution_count": null,
      "metadata": {
        "id": "qwm_g7bSxXDW"
      },
      "outputs": [],
      "source": [
        "plt.plot(losses)\n",
        "plt.show()"
      ]
    },
    {
      "cell_type": "code",
      "execution_count": null,
      "metadata": {
        "id": "8ShLQEzyxwKX"
      },
      "outputs": [],
      "source": [
        "y_pred=[]\n",
        "for X,y in test_dataloader:\n",
        "  X, y = X.to(device), y.to(device)\n",
        "  pred = model(X)\n",
        "  for i in range(len(pred)):\n",
        "    y_pred.append(pred[i].item())"
      ]
    },
    {
      "cell_type": "code",
      "execution_count": null,
      "metadata": {
        "id": "hQxWgoDCx_Q_"
      },
      "outputs": [],
      "source": [
        "print(y_pred)"
      ]
    },
    {
      "cell_type": "code",
      "execution_count": null,
      "metadata": {
        "id": "6skvmlKay1pJ"
      },
      "outputs": [],
      "source": [
        "y_true = test_df[target].values.tolist()\n",
        "print(y_true)"
      ]
    },
    {
      "cell_type": "markdown",
      "metadata": {
        "id": "89ztFW2uzZgC"
      },
      "source": [
        "# 評価"
      ]
    },
    {
      "cell_type": "markdown",
      "metadata": {
        "id": "ead4TRkB4suk"
      },
      "source": [
        "## モデルの状態"
      ]
    },
    {
      "cell_type": "code",
      "execution_count": null,
      "metadata": {
        "id": "OPyAAzZo4wFZ"
      },
      "outputs": [],
      "source": [
        "summary(model, (1,1,1,256))"
      ]
    },
    {
      "cell_type": "markdown",
      "metadata": {
        "id": "lVR7eSBB3TCl"
      },
      "source": [
        "# 可視化"
      ]
    },
    {
      "cell_type": "code",
      "execution_count": null,
      "metadata": {
        "id": "GM3ttzFX3ViU"
      },
      "outputs": [],
      "source": [
        "plt.plot(y_true)\n",
        "plt.plot(y_pred)\n",
        "plt.show()"
      ]
    },
    {
      "cell_type": "markdown",
      "metadata": {
        "id": "TO-hVzezzbqg"
      },
      "source": [
        "## 決定係数"
      ]
    },
    {
      "cell_type": "code",
      "execution_count": null,
      "metadata": {
        "id": "bbVzy0UfzeNa"
      },
      "outputs": [],
      "source": [
        "# サンプルデータ\n",
        "# R2(決定係数)\n",
        "r2 = r2_score(y_true,                        # 実測値\n",
        "              y_pred,                        # 予測値\n",
        "              sample_weight=None,            # サンプルの重み\n",
        "              multioutput=\"uniform_average\"  # 複数スコアの集計方法\n",
        "             )\n",
        "\n",
        "print(r2)"
      ]
    },
    {
      "cell_type": "markdown",
      "metadata": {
        "id": "uu__Yg410ixI"
      },
      "source": [
        "## MSE"
      ]
    },
    {
      "cell_type": "code",
      "execution_count": null,
      "metadata": {
        "id": "kpdhA9K50j6Z"
      },
      "outputs": [],
      "source": [
        "from sklearn.metrics import mean_squared_error\n",
        "\n",
        "# MSE算出\n",
        "mse  = mean_squared_error(y_true,                         # 実測値\n",
        "                          y_pred,                         # 予測値\n",
        "                          sample_weight=None,             # サンプルの重み\n",
        "                          multioutput='uniform_average',  # 複数スコアの集計方法\n",
        "                          squared=True                    # True(MSEを算出), False(RMSEを算出)\n",
        "                          )\n",
        "\n",
        "print(mse)"
      ]
    },
    {
      "cell_type": "markdown",
      "metadata": {
        "id": "h5B-i10Czefb"
      },
      "source": [
        "## RMSE"
      ]
    },
    {
      "cell_type": "code",
      "execution_count": null,
      "metadata": {
        "id": "YVCgzHYqy8aT"
      },
      "outputs": [],
      "source": [
        "# RMSE算出\n",
        "rmse  = mean_squared_error(y_true,                         # 実測値\n",
        "                           y_pred,                         # 予測値\n",
        "                           sample_weight=None,             # サンプルの重み\n",
        "                           multioutput='uniform_average',  # 複数スコアの集計方法\n",
        "                           squared=False                   # True(MSEを算出), False(RMSEを算出)\n",
        "                          )\n",
        "\n",
        "print(rmse)"
      ]
    },
    {
      "cell_type": "markdown",
      "metadata": {
        "id": "6kfcnu5Qzl8E"
      },
      "source": [
        "## MAE"
      ]
    },
    {
      "cell_type": "code",
      "execution_count": null,
      "metadata": {
        "id": "O4PZg5IPzqF3"
      },
      "outputs": [],
      "source": [
        "# MAE算出\n",
        "mae = mean_absolute_error(y_true,                       # 実測値\n",
        "                          y_pred,                       # 予測値\n",
        "                          sample_weight = None,         # サンプルの重み\n",
        "                          multioutput='uniform_average' # 複数スコアの集計方法\n",
        "                          )\n",
        "\n",
        "print(mae)"
      ]
    },
    {
      "cell_type": "code",
      "source": [
        "test_df['pred'] = y_pred"
      ],
      "metadata": {
        "id": "Fa21p3JrByGL"
      },
      "execution_count": null,
      "outputs": []
    },
    {
      "cell_type": "code",
      "source": [
        "test_df"
      ],
      "metadata": {
        "id": "Cvt436siB-D8"
      },
      "execution_count": null,
      "outputs": []
    },
    {
      "cell_type": "code",
      "source": [
        "def path(x):\n",
        "  spl_path = x['pcd_path'].split('/')\n",
        "  return spl_path[0]\n",
        "\n",
        "test_df['path'] = test_df.apply(path,axis=1)"
      ],
      "metadata": {
        "id": "gCcI0QD0CCFT"
      },
      "execution_count": null,
      "outputs": []
    },
    {
      "cell_type": "code",
      "source": [
        "test_df.to_csv('result.csv')"
      ],
      "metadata": {
        "id": "5cJBZhEECRYx"
      },
      "execution_count": null,
      "outputs": []
    },
    {
      "cell_type": "markdown",
      "source": [
        "## 各path予測"
      ],
      "metadata": {
        "id": "wcep3_AtCYfk"
      }
    },
    {
      "cell_type": "markdown",
      "source": [
        "### path1"
      ],
      "metadata": {
        "id": "3K2OJqbHCcHi"
      }
    },
    {
      "cell_type": "code",
      "source": [
        "path1_test_df = test_df[test_df['path']=='path1']\n"
      ],
      "metadata": {
        "id": "3Hy5e68qCXUI"
      },
      "execution_count": null,
      "outputs": []
    },
    {
      "cell_type": "code",
      "source": [
        "path1_test_df"
      ],
      "metadata": {
        "id": "fdlNQQhKCmLZ"
      },
      "execution_count": null,
      "outputs": []
    },
    {
      "cell_type": "code",
      "source": [
        "plt.plot(path1_test_df['error'],label='actual')\n",
        "plt.plot(path1_test_df['pred'],label='pred')\n",
        "plt.legend()\n",
        "plt.show()"
      ],
      "metadata": {
        "id": "6EkSces9Ctgw"
      },
      "execution_count": null,
      "outputs": []
    },
    {
      "cell_type": "markdown",
      "source": [
        "### path2"
      ],
      "metadata": {
        "id": "O-0B0_6fESgj"
      }
    },
    {
      "cell_type": "code",
      "source": [
        "path2_test_df = test_df[test_df['path']=='path2']\n",
        "error = path2_test_df['error']\n",
        "pred = path2_test_df['pred']\n",
        "error = error.reset_index(drop=True)\n",
        "pred = pred.reset_index(drop=True)\n",
        "plt.plot(error,label='actual')\n",
        "plt.plot(pred,label='pred')\n",
        "plt.legend()\n",
        "plt.show()"
      ],
      "metadata": {
        "id": "Vc_SyB8DEUln"
      },
      "execution_count": null,
      "outputs": []
    },
    {
      "cell_type": "markdown",
      "source": [
        "### path3"
      ],
      "metadata": {
        "id": "6iDkpCh-F-hG"
      }
    },
    {
      "cell_type": "code",
      "source": [
        "path3_test_df = test_df[test_df['path']=='path3']\n",
        "error = path3_test_df['error']\n",
        "pred = path3_test_df['pred']\n",
        "error = error.reset_index(drop=True)\n",
        "pred = pred.reset_index(drop=True)\n",
        "plt.plot(error,label='actual')\n",
        "plt.plot(pred,label='pred')\n",
        "plt.legend()\n",
        "plt.show()"
      ],
      "metadata": {
        "id": "WKJ6KZ9wGCW6"
      },
      "execution_count": null,
      "outputs": []
    },
    {
      "cell_type": "markdown",
      "source": [
        "### path4"
      ],
      "metadata": {
        "id": "M2wbo2cdGJyV"
      }
    },
    {
      "cell_type": "code",
      "source": [
        "path4_test_df = test_df[test_df['path']=='path4']\n",
        "error = path4_test_df['error']\n",
        "pred = path4_test_df['pred']\n",
        "error = error.reset_index(drop=True)\n",
        "pred = pred.reset_index(drop=True)\n",
        "plt.plot(error,label='actual')\n",
        "plt.plot(pred,label='pred')\n",
        "plt.legend()\n",
        "plt.show()"
      ],
      "metadata": {
        "id": "9lKmmIWXGLRN"
      },
      "execution_count": null,
      "outputs": []
    },
    {
      "cell_type": "markdown",
      "source": [
        "### path5"
      ],
      "metadata": {
        "id": "mPCkMtlKGRQt"
      }
    },
    {
      "cell_type": "code",
      "source": [
        "path5_test_df = test_df[test_df['path']=='path5']\n",
        "error = path5_test_df['error']\n",
        "pred = path5_test_df['pred']\n",
        "error = error.reset_index(drop=True)\n",
        "pred = pred.reset_index(drop=True)\n",
        "plt.plot(error,label='actual')\n",
        "plt.plot(pred,label='pred')\n",
        "plt.legend()\n",
        "plt.show()"
      ],
      "metadata": {
        "id": "XVN1O64KGQiw"
      },
      "execution_count": null,
      "outputs": []
    },
    {
      "cell_type": "markdown",
      "source": [
        "### path6"
      ],
      "metadata": {
        "id": "jylF73VIGYJE"
      }
    },
    {
      "cell_type": "code",
      "source": [
        "path6_test_df = test_df[test_df['path']=='path6']\n",
        "error = path6_test_df['error']\n",
        "pred = path6_test_df['pred']\n",
        "error = error.reset_index(drop=True)\n",
        "pred = pred.reset_index(drop=True)\n",
        "plt.plot(error,label='actual')\n",
        "plt.plot(pred,label='pred')\n",
        "plt.legend()\n",
        "plt.show()"
      ],
      "metadata": {
        "id": "e24mssTjGZ9y"
      },
      "execution_count": null,
      "outputs": []
    },
    {
      "cell_type": "markdown",
      "source": [
        "### path7"
      ],
      "metadata": {
        "id": "ZzMKS-O1GhxW"
      }
    },
    {
      "cell_type": "code",
      "source": [
        "path7_test_df = test_df[test_df['path']=='path7']\n",
        "error = path7_test_df['error']\n",
        "pred = path7_test_df['pred']\n",
        "error = error.reset_index(drop=True)\n",
        "pred = pred.reset_index(drop=True)\n",
        "plt.plot(error,label='actual')\n",
        "plt.plot(pred,label='pred')\n",
        "plt.legend()\n",
        "plt.show()"
      ],
      "metadata": {
        "id": "PevgUXvFGiuy"
      },
      "execution_count": null,
      "outputs": []
    }
  ],
  "metadata": {
    "colab": {
      "provenance": [],
      "include_colab_link": true
    },
    "kernelspec": {
      "display_name": "Python 3",
      "name": "python3"
    },
    "language_info": {
      "name": "python"
    }
  },
  "nbformat": 4,
  "nbformat_minor": 0
}